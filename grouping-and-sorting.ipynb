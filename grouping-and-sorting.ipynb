{
 "cells": [
  {
   "cell_type": "markdown",
   "id": "01b96f09",
   "metadata": {
    "papermill": {
     "duration": 0.003691,
     "end_time": "2023-10-08T08:05:11.482311",
     "exception": false,
     "start_time": "2023-10-08T08:05:11.478620",
     "status": "completed"
    },
    "tags": []
   },
   "source": [
    "**This notebook is an exercise in the [Pandas](https://www.kaggle.com/learn/pandas) course.  You can reference the tutorial at [this link](https://www.kaggle.com/residentmario/grouping-and-sorting).**\n",
    "\n",
    "---\n"
   ]
  },
  {
   "cell_type": "markdown",
   "id": "a5f731ff",
   "metadata": {
    "papermill": {
     "duration": 0.002763,
     "end_time": "2023-10-08T08:05:11.488135",
     "exception": false,
     "start_time": "2023-10-08T08:05:11.485372",
     "status": "completed"
    },
    "tags": []
   },
   "source": [
    "# Introduction\n",
    "\n",
    "In these exercises we'll apply groupwise analysis to our dataset.\n",
    "\n",
    "Run the code cell below to load the data before running the exercises."
   ]
  },
  {
   "cell_type": "code",
   "execution_count": 1,
   "id": "3f82d782",
   "metadata": {
    "execution": {
     "iopub.execute_input": "2023-10-08T08:05:11.495956Z",
     "iopub.status.busy": "2023-10-08T08:05:11.495398Z",
     "iopub.status.idle": "2023-10-08T08:05:19.412423Z",
     "shell.execute_reply": "2023-10-08T08:05:19.411164Z"
    },
    "papermill": {
     "duration": 7.924123,
     "end_time": "2023-10-08T08:05:19.415289",
     "exception": false,
     "start_time": "2023-10-08T08:05:11.491166",
     "status": "completed"
    },
    "tags": []
   },
   "outputs": [
    {
     "name": "stdout",
     "output_type": "stream",
     "text": [
      "Setup complete.\n"
     ]
    }
   ],
   "source": [
    "import pandas as pd\n",
    "\n",
    "reviews = pd.read_csv(\"../input/wine-reviews/winemag-data-130k-v2.csv\", index_col=0)\n",
    "#pd.set_option(\"display.max_rows\", 5)\n",
    "\n",
    "from learntools.core import binder; binder.bind(globals())\n",
    "from learntools.pandas.grouping_and_sorting import *\n",
    "print(\"Setup complete.\")"
   ]
  },
  {
   "cell_type": "markdown",
   "id": "8fb447ba",
   "metadata": {
    "papermill": {
     "duration": 0.002889,
     "end_time": "2023-10-08T08:05:19.421771",
     "exception": false,
     "start_time": "2023-10-08T08:05:19.418882",
     "status": "completed"
    },
    "tags": []
   },
   "source": [
    "# Exercises"
   ]
  },
  {
   "cell_type": "markdown",
   "id": "9ddd2d66",
   "metadata": {
    "papermill": {
     "duration": 0.004396,
     "end_time": "2023-10-08T08:05:19.429857",
     "exception": false,
     "start_time": "2023-10-08T08:05:19.425461",
     "status": "completed"
    },
    "tags": []
   },
   "source": [
    "## 1.\n",
    "Who are the most common wine reviewers in the dataset? Create a `Series` whose index is the `taster_twitter_handle` category from the dataset, and whose values count how many reviews each person wrote."
   ]
  },
  {
   "cell_type": "code",
   "execution_count": 2,
   "id": "5fd54d08",
   "metadata": {
    "execution": {
     "iopub.execute_input": "2023-10-08T08:05:19.438175Z",
     "iopub.status.busy": "2023-10-08T08:05:19.437425Z",
     "iopub.status.idle": "2023-10-08T08:05:19.454898Z",
     "shell.execute_reply": "2023-10-08T08:05:19.453602Z"
    },
    "papermill": {
     "duration": 0.02354,
     "end_time": "2023-10-08T08:05:19.456596",
     "exception": false,
     "start_time": "2023-10-08T08:05:19.433056",
     "status": "completed"
    },
    "tags": []
   },
   "outputs": [
    {
     "data": {
      "application/javascript": [
       "parent.postMessage({\"jupyterEvent\": \"custom.exercise_interaction\", \"data\": {\"outcomeType\": 1, \"valueTowardsCompletion\": 0.16666666666666666, \"interactionType\": 1, \"questionType\": 1, \"questionId\": \"1_ReviewsWritten\", \"learnToolsVersion\": \"0.3.4\", \"failureMessage\": \"\", \"exceptionClass\": \"\", \"trace\": \"\"}}, \"*\")"
      ],
      "text/plain": [
       "<IPython.core.display.Javascript object>"
      ]
     },
     "metadata": {},
     "output_type": "display_data"
    },
    {
     "data": {
      "text/markdown": [
       "<span style=\"color:#33cc33\">Correct:</span> \n",
       "\n",
       "\n",
       "```python\n",
       "reviews_written = reviews.groupby('taster_twitter_handle').size()\n",
       "```\n",
       "or\n",
       "```python\n",
       "reviews_written = reviews.groupby('taster_twitter_handle').taster_twitter_handle.count()\n",
       "```\n"
      ],
      "text/plain": [
       "Correct: \n",
       "\n",
       "\n",
       "```python\n",
       "reviews_written = reviews.groupby('taster_twitter_handle').size()\n",
       "```\n",
       "or\n",
       "```python\n",
       "reviews_written = reviews.groupby('taster_twitter_handle').taster_twitter_handle.count()\n",
       "```"
      ]
     },
     "metadata": {},
     "output_type": "display_data"
    }
   ],
   "source": [
    "\n",
    "reviews_written = reviews.groupby('taster_twitter_handle').points.count()\n",
    "\n",
    "# Check your answer\n",
    "q1.check()"
   ]
  },
  {
   "cell_type": "code",
   "execution_count": 3,
   "id": "d5e14461",
   "metadata": {
    "execution": {
     "iopub.execute_input": "2023-10-08T08:05:19.466499Z",
     "iopub.status.busy": "2023-10-08T08:05:19.466216Z",
     "iopub.status.idle": "2023-10-08T08:05:19.471285Z",
     "shell.execute_reply": "2023-10-08T08:05:19.470200Z"
    },
    "papermill": {
     "duration": 0.011601,
     "end_time": "2023-10-08T08:05:19.473191",
     "exception": false,
     "start_time": "2023-10-08T08:05:19.461590",
     "status": "completed"
    },
    "tags": []
   },
   "outputs": [],
   "source": [
    "#q1.hint()\n",
    "#q1.solution()"
   ]
  },
  {
   "cell_type": "markdown",
   "id": "76791ea6",
   "metadata": {
    "papermill": {
     "duration": 0.003124,
     "end_time": "2023-10-08T08:05:19.479961",
     "exception": false,
     "start_time": "2023-10-08T08:05:19.476837",
     "status": "completed"
    },
    "tags": []
   },
   "source": [
    "## 2.\n",
    "What is the best wine I can buy for a given amount of money? Create a `Series` whose index is wine prices and whose values is the maximum number of points a wine costing that much was given in a review. Sort the values by price, ascending (so that `4.0` dollars is at the top and `3300.0` dollars is at the bottom)."
   ]
  },
  {
   "cell_type": "code",
   "execution_count": 4,
   "id": "e719946c",
   "metadata": {
    "execution": {
     "iopub.execute_input": "2023-10-08T08:05:19.487765Z",
     "iopub.status.busy": "2023-10-08T08:05:19.487430Z",
     "iopub.status.idle": "2023-10-08T08:05:19.498347Z",
     "shell.execute_reply": "2023-10-08T08:05:19.497575Z"
    },
    "papermill": {
     "duration": 0.016732,
     "end_time": "2023-10-08T08:05:19.499888",
     "exception": false,
     "start_time": "2023-10-08T08:05:19.483156",
     "status": "completed"
    },
    "tags": []
   },
   "outputs": [
    {
     "data": {
      "application/javascript": [
       "parent.postMessage({\"jupyterEvent\": \"custom.exercise_interaction\", \"data\": {\"outcomeType\": 1, \"valueTowardsCompletion\": 0.16666666666666666, \"interactionType\": 1, \"questionType\": 1, \"questionId\": \"2_BestRatingPerPrice\", \"learnToolsVersion\": \"0.3.4\", \"failureMessage\": \"\", \"exceptionClass\": \"\", \"trace\": \"\"}}, \"*\")"
      ],
      "text/plain": [
       "<IPython.core.display.Javascript object>"
      ]
     },
     "metadata": {},
     "output_type": "display_data"
    },
    {
     "data": {
      "text/markdown": [
       "<span style=\"color:#33cc33\">Correct</span>"
      ],
      "text/plain": [
       "Correct"
      ]
     },
     "metadata": {},
     "output_type": "display_data"
    }
   ],
   "source": [
    "\n",
    "best_rating_per_price = reviews.groupby('price').points.max()\n",
    "\n",
    "# Check your answer\n",
    "q2.check()"
   ]
  },
  {
   "cell_type": "code",
   "execution_count": 5,
   "id": "fabafc7d",
   "metadata": {
    "execution": {
     "iopub.execute_input": "2023-10-08T08:05:19.508624Z",
     "iopub.status.busy": "2023-10-08T08:05:19.508357Z",
     "iopub.status.idle": "2023-10-08T08:05:19.511855Z",
     "shell.execute_reply": "2023-10-08T08:05:19.510732Z"
    },
    "papermill": {
     "duration": 0.010608,
     "end_time": "2023-10-08T08:05:19.514277",
     "exception": false,
     "start_time": "2023-10-08T08:05:19.503669",
     "status": "completed"
    },
    "tags": []
   },
   "outputs": [],
   "source": [
    "#q2.hint()\n",
    "#q2.solution()"
   ]
  },
  {
   "cell_type": "markdown",
   "id": "e2205a5b",
   "metadata": {
    "papermill": {
     "duration": 0.00448,
     "end_time": "2023-10-08T08:05:19.523332",
     "exception": false,
     "start_time": "2023-10-08T08:05:19.518852",
     "status": "completed"
    },
    "tags": []
   },
   "source": [
    "## 3.\n",
    "What are the minimum and maximum prices for each `variety` of wine? Create a `DataFrame` whose index is the `variety` category from the dataset and whose values are the `min` and `max` values thereof."
   ]
  },
  {
   "cell_type": "code",
   "execution_count": 6,
   "id": "010796ff",
   "metadata": {
    "execution": {
     "iopub.execute_input": "2023-10-08T08:05:19.531741Z",
     "iopub.status.busy": "2023-10-08T08:05:19.531439Z",
     "iopub.status.idle": "2023-10-08T08:05:19.558328Z",
     "shell.execute_reply": "2023-10-08T08:05:19.557541Z"
    },
    "papermill": {
     "duration": 0.033012,
     "end_time": "2023-10-08T08:05:19.559853",
     "exception": false,
     "start_time": "2023-10-08T08:05:19.526841",
     "status": "completed"
    },
    "tags": []
   },
   "outputs": [
    {
     "name": "stdout",
     "output_type": "stream",
     "text": [
      "              min    max\n",
      "variety                 \n",
      "Abouriou     15.0   75.0\n",
      "Agiorgitiko  10.0   66.0\n",
      "Aglianico     6.0  180.0\n",
      "Aidani       27.0   27.0\n",
      "Airen         8.0   10.0\n",
      "...           ...    ...\n",
      "Zinfandel     5.0  100.0\n",
      "Zlahtina     13.0   16.0\n",
      "Zweigelt      9.0   70.0\n",
      "Çalkarası    19.0   19.0\n",
      "Žilavka      15.0   15.0\n",
      "\n",
      "[707 rows x 2 columns]\n"
     ]
    },
    {
     "data": {
      "application/javascript": [
       "parent.postMessage({\"jupyterEvent\": \"custom.exercise_interaction\", \"data\": {\"outcomeType\": 1, \"valueTowardsCompletion\": 0.16666666666666666, \"interactionType\": 1, \"questionType\": 1, \"questionId\": \"3_PriceExtremes\", \"learnToolsVersion\": \"0.3.4\", \"failureMessage\": \"\", \"exceptionClass\": \"\", \"trace\": \"\"}}, \"*\")"
      ],
      "text/plain": [
       "<IPython.core.display.Javascript object>"
      ]
     },
     "metadata": {},
     "output_type": "display_data"
    },
    {
     "data": {
      "text/markdown": [
       "<span style=\"color:#33cc33\">Correct</span>"
      ],
      "text/plain": [
       "Correct"
      ]
     },
     "metadata": {},
     "output_type": "display_data"
    }
   ],
   "source": [
    "price_extremes = reviews.groupby('variety').price.agg([min,max])\n",
    "print(price_extremes)\n",
    "# Check your answer\n",
    "q3.check()"
   ]
  },
  {
   "cell_type": "code",
   "execution_count": 7,
   "id": "26d4e375",
   "metadata": {
    "execution": {
     "iopub.execute_input": "2023-10-08T08:05:19.569107Z",
     "iopub.status.busy": "2023-10-08T08:05:19.568750Z",
     "iopub.status.idle": "2023-10-08T08:05:19.572340Z",
     "shell.execute_reply": "2023-10-08T08:05:19.571551Z"
    },
    "papermill": {
     "duration": 0.010108,
     "end_time": "2023-10-08T08:05:19.573891",
     "exception": false,
     "start_time": "2023-10-08T08:05:19.563783",
     "status": "completed"
    },
    "tags": []
   },
   "outputs": [],
   "source": [
    "#q3.hint()\n",
    "#q3.solution()"
   ]
  },
  {
   "cell_type": "markdown",
   "id": "956aa13a",
   "metadata": {
    "papermill": {
     "duration": 0.003429,
     "end_time": "2023-10-08T08:05:19.581213",
     "exception": false,
     "start_time": "2023-10-08T08:05:19.577784",
     "status": "completed"
    },
    "tags": []
   },
   "source": [
    "## 4.\n",
    "What are the most expensive wine varieties? Create a variable `sorted_varieties` containing a copy of the dataframe from the previous question where varieties are sorted in descending order based on minimum price, then on maximum price (to break ties)."
   ]
  },
  {
   "cell_type": "code",
   "execution_count": 8,
   "id": "aaad8955",
   "metadata": {
    "execution": {
     "iopub.execute_input": "2023-10-08T08:05:19.589658Z",
     "iopub.status.busy": "2023-10-08T08:05:19.589384Z",
     "iopub.status.idle": "2023-10-08T08:05:19.604110Z",
     "shell.execute_reply": "2023-10-08T08:05:19.603165Z"
    },
    "papermill": {
     "duration": 0.021716,
     "end_time": "2023-10-08T08:05:19.606429",
     "exception": false,
     "start_time": "2023-10-08T08:05:19.584713",
     "status": "completed"
    },
    "tags": []
   },
   "outputs": [
    {
     "name": "stdout",
     "output_type": "stream",
     "text": [
      "                                  min    max\n",
      "variety                                     \n",
      "Ramisco                         495.0  495.0\n",
      "Terrantez                       236.0  236.0\n",
      "Francisa                        160.0  160.0\n",
      "Rosenmuskateller                150.0  150.0\n",
      "Tinta Negra Mole                112.0  112.0\n",
      "...                               ...    ...\n",
      "Roscetto                          NaN    NaN\n",
      "Sauvignon Blanc-Sauvignon Gris    NaN    NaN\n",
      "Tempranillo-Malbec                NaN    NaN\n",
      "Vital                             NaN    NaN\n",
      "Zelen                             NaN    NaN\n",
      "\n",
      "[707 rows x 2 columns]\n"
     ]
    },
    {
     "data": {
      "application/javascript": [
       "parent.postMessage({\"jupyterEvent\": \"custom.exercise_interaction\", \"data\": {\"outcomeType\": 1, \"valueTowardsCompletion\": 0.16666666666666666, \"interactionType\": 1, \"questionType\": 1, \"questionId\": \"4_SortedVarieties\", \"learnToolsVersion\": \"0.3.4\", \"failureMessage\": \"\", \"exceptionClass\": \"\", \"trace\": \"\"}}, \"*\")"
      ],
      "text/plain": [
       "<IPython.core.display.Javascript object>"
      ]
     },
     "metadata": {},
     "output_type": "display_data"
    },
    {
     "data": {
      "text/markdown": [
       "<span style=\"color:#33cc33\">Correct</span>"
      ],
      "text/plain": [
       "Correct"
      ]
     },
     "metadata": {},
     "output_type": "display_data"
    }
   ],
   "source": [
    "sorted_varieties = price_extremes.sort_values(by=['min','max'],ascending=False)\n",
    "print(sorted_varieties)\n",
    "# Check your answer\n",
    "q4.check()"
   ]
  },
  {
   "cell_type": "code",
   "execution_count": 9,
   "id": "d8a09627",
   "metadata": {
    "execution": {
     "iopub.execute_input": "2023-10-08T08:05:19.616670Z",
     "iopub.status.busy": "2023-10-08T08:05:19.616156Z",
     "iopub.status.idle": "2023-10-08T08:05:19.619290Z",
     "shell.execute_reply": "2023-10-08T08:05:19.618714Z"
    },
    "papermill": {
     "duration": 0.010371,
     "end_time": "2023-10-08T08:05:19.621251",
     "exception": false,
     "start_time": "2023-10-08T08:05:19.610880",
     "status": "completed"
    },
    "tags": []
   },
   "outputs": [],
   "source": [
    "#q4.hint()\n",
    "#q4.solution()"
   ]
  },
  {
   "cell_type": "markdown",
   "id": "2166451a",
   "metadata": {
    "papermill": {
     "duration": 0.003809,
     "end_time": "2023-10-08T08:05:19.629530",
     "exception": false,
     "start_time": "2023-10-08T08:05:19.625721",
     "status": "completed"
    },
    "tags": []
   },
   "source": [
    "## 5.\n",
    "Create a `Series` whose index is reviewers and whose values is the average review score given out by that reviewer. Hint: you will need the `taster_name` and `points` columns."
   ]
  },
  {
   "cell_type": "code",
   "execution_count": 10,
   "id": "1bb7dfcd",
   "metadata": {
    "execution": {
     "iopub.execute_input": "2023-10-08T08:05:19.638863Z",
     "iopub.status.busy": "2023-10-08T08:05:19.638354Z",
     "iopub.status.idle": "2023-10-08T08:05:19.654847Z",
     "shell.execute_reply": "2023-10-08T08:05:19.653927Z"
    },
    "papermill": {
     "duration": 0.023033,
     "end_time": "2023-10-08T08:05:19.656397",
     "exception": false,
     "start_time": "2023-10-08T08:05:19.633364",
     "status": "completed"
    },
    "tags": []
   },
   "outputs": [
    {
     "name": "stdout",
     "output_type": "stream",
     "text": [
      "taster_name\n",
      "Alexander Peartree    85.855422\n",
      "Anna Lee C. Iijima    88.415629\n",
      "Anne Krebiehl MW      90.562551\n",
      "Carrie Dykes          86.395683\n",
      "Christina Pickard     87.833333\n",
      "Fiona Adams           86.888889\n",
      "Jeff Jenssen          88.319756\n",
      "Jim Gordon            88.626287\n",
      "Joe Czerwinski        88.536235\n",
      "Kerin O’Keefe         88.867947\n",
      "Lauren Buzzeo         87.739510\n",
      "Matt Kettmann         90.008686\n",
      "Michael Schachner     86.907493\n",
      "Mike DeSimone         89.101167\n",
      "Paul Gregutt          89.082564\n",
      "Roger Voss            88.708003\n",
      "Sean P. Sullivan      88.755739\n",
      "Susan Kostrzewa       86.609217\n",
      "Virginie Boone        89.213379\n",
      "Name: points, dtype: float64\n"
     ]
    },
    {
     "data": {
      "application/javascript": [
       "parent.postMessage({\"jupyterEvent\": \"custom.exercise_interaction\", \"data\": {\"outcomeType\": 1, \"valueTowardsCompletion\": 0.16666666666666666, \"interactionType\": 1, \"questionType\": 1, \"questionId\": \"5_ReviewerMeanRatings\", \"learnToolsVersion\": \"0.3.4\", \"failureMessage\": \"\", \"exceptionClass\": \"\", \"trace\": \"\"}}, \"*\")"
      ],
      "text/plain": [
       "<IPython.core.display.Javascript object>"
      ]
     },
     "metadata": {},
     "output_type": "display_data"
    },
    {
     "data": {
      "text/markdown": [
       "<span style=\"color:#33cc33\">Correct</span>"
      ],
      "text/plain": [
       "Correct"
      ]
     },
     "metadata": {},
     "output_type": "display_data"
    }
   ],
   "source": [
    "reviewer_mean_ratings = reviews.groupby('taster_name').points.mean()\n",
    "print(reviewer_mean_ratings)\n",
    "# Check your answer\n",
    "q5.check()"
   ]
  },
  {
   "cell_type": "code",
   "execution_count": 11,
   "id": "6c8858ab",
   "metadata": {
    "execution": {
     "iopub.execute_input": "2023-10-08T08:05:19.667514Z",
     "iopub.status.busy": "2023-10-08T08:05:19.667202Z",
     "iopub.status.idle": "2023-10-08T08:05:19.671383Z",
     "shell.execute_reply": "2023-10-08T08:05:19.670032Z"
    },
    "papermill": {
     "duration": 0.011812,
     "end_time": "2023-10-08T08:05:19.673548",
     "exception": false,
     "start_time": "2023-10-08T08:05:19.661736",
     "status": "completed"
    },
    "tags": []
   },
   "outputs": [],
   "source": [
    "#q5.hint()\n",
    "#q5.solution()"
   ]
  },
  {
   "cell_type": "markdown",
   "id": "825dd60f",
   "metadata": {
    "papermill": {
     "duration": 0.004008,
     "end_time": "2023-10-08T08:05:19.682336",
     "exception": false,
     "start_time": "2023-10-08T08:05:19.678328",
     "status": "completed"
    },
    "tags": []
   },
   "source": [
    "Are there significant differences in the average scores assigned by the various reviewers? Run the cell below to use the `describe()` method to see a summary of the range of values."
   ]
  },
  {
   "cell_type": "code",
   "execution_count": 12,
   "id": "641dcc1d",
   "metadata": {
    "execution": {
     "iopub.execute_input": "2023-10-08T08:05:19.692376Z",
     "iopub.status.busy": "2023-10-08T08:05:19.692020Z",
     "iopub.status.idle": "2023-10-08T08:05:19.704449Z",
     "shell.execute_reply": "2023-10-08T08:05:19.703491Z"
    },
    "papermill": {
     "duration": 0.019912,
     "end_time": "2023-10-08T08:05:19.706425",
     "exception": false,
     "start_time": "2023-10-08T08:05:19.686513",
     "status": "completed"
    },
    "tags": []
   },
   "outputs": [
    {
     "data": {
      "text/plain": [
       "count    19.000000\n",
       "mean     88.233026\n",
       "std       1.243610\n",
       "min      85.855422\n",
       "25%      87.323501\n",
       "50%      88.536235\n",
       "75%      88.975256\n",
       "max      90.562551\n",
       "Name: points, dtype: float64"
      ]
     },
     "execution_count": 12,
     "metadata": {},
     "output_type": "execute_result"
    }
   ],
   "source": [
    "reviewer_mean_ratings.describe()"
   ]
  },
  {
   "cell_type": "markdown",
   "id": "340d8dcf",
   "metadata": {
    "papermill": {
     "duration": 0.00399,
     "end_time": "2023-10-08T08:05:19.714913",
     "exception": false,
     "start_time": "2023-10-08T08:05:19.710923",
     "status": "completed"
    },
    "tags": []
   },
   "source": [
    "## 6.\n",
    "What combination of countries and varieties are most common? Create a `Series` whose index is a `MultiIndex`of `{country, variety}` pairs. For example, a pinot noir produced in the US should map to `{\"US\", \"Pinot Noir\"}`. Sort the values in the `Series` in descending order based on wine count."
   ]
  },
  {
   "cell_type": "code",
   "execution_count": 13,
   "id": "82f794d3",
   "metadata": {
    "execution": {
     "iopub.execute_input": "2023-10-08T08:05:19.724724Z",
     "iopub.status.busy": "2023-10-08T08:05:19.724381Z",
     "iopub.status.idle": "2023-10-08T08:05:19.756807Z",
     "shell.execute_reply": "2023-10-08T08:05:19.756286Z"
    },
    "papermill": {
     "duration": 0.039316,
     "end_time": "2023-10-08T08:05:19.758410",
     "exception": false,
     "start_time": "2023-10-08T08:05:19.719094",
     "status": "completed"
    },
    "tags": []
   },
   "outputs": [
    {
     "name": "stdout",
     "output_type": "stream",
     "text": [
      "country  variety                 \n",
      "US       Pinot Noir                  9885\n",
      "         Cabernet Sauvignon          7315\n",
      "         Chardonnay                  6801\n",
      "France   Bordeaux-style Red Blend    4725\n",
      "Italy    Red Blend                   3624\n",
      "                                     ... \n",
      "Mexico   Cinsault                       1\n",
      "         Grenache                       1\n",
      "         Merlot                         1\n",
      "         Rosado                         1\n",
      "Uruguay  White Blend                    1\n",
      "Length: 1612, dtype: int64\n"
     ]
    },
    {
     "data": {
      "application/javascript": [
       "parent.postMessage({\"jupyterEvent\": \"custom.exercise_interaction\", \"data\": {\"outcomeType\": 1, \"valueTowardsCompletion\": 0.16666666666666666, \"interactionType\": 1, \"questionType\": 1, \"questionId\": \"6_GroupbyCountryVariety\", \"learnToolsVersion\": \"0.3.4\", \"failureMessage\": \"\", \"exceptionClass\": \"\", \"trace\": \"\"}}, \"*\")"
      ],
      "text/plain": [
       "<IPython.core.display.Javascript object>"
      ]
     },
     "metadata": {},
     "output_type": "display_data"
    },
    {
     "data": {
      "text/markdown": [
       "<span style=\"color:#33cc33\">Correct</span>"
      ],
      "text/plain": [
       "Correct"
      ]
     },
     "metadata": {},
     "output_type": "display_data"
    }
   ],
   "source": [
    "country_variety_counts = reviews.groupby(['country', 'variety']).size().sort_values(ascending=False)\n",
    "print(country_variety_counts)\n",
    "# Check your answer\n",
    "q6.check()"
   ]
  },
  {
   "cell_type": "code",
   "execution_count": 14,
   "id": "b81244fb",
   "metadata": {
    "execution": {
     "iopub.execute_input": "2023-10-08T08:05:19.768898Z",
     "iopub.status.busy": "2023-10-08T08:05:19.768560Z",
     "iopub.status.idle": "2023-10-08T08:05:19.773887Z",
     "shell.execute_reply": "2023-10-08T08:05:19.772396Z"
    },
    "papermill": {
     "duration": 0.012999,
     "end_time": "2023-10-08T08:05:19.776017",
     "exception": false,
     "start_time": "2023-10-08T08:05:19.763018",
     "status": "completed"
    },
    "tags": []
   },
   "outputs": [],
   "source": [
    "#q6.hint()\n",
    "#q6.solution()"
   ]
  },
  {
   "cell_type": "markdown",
   "id": "1dc8f235",
   "metadata": {
    "papermill": {
     "duration": 0.004151,
     "end_time": "2023-10-08T08:05:19.785008",
     "exception": false,
     "start_time": "2023-10-08T08:05:19.780857",
     "status": "completed"
    },
    "tags": []
   },
   "source": [
    "# Keep going\n",
    "\n",
    "Move on to the [**data types and missing data**](https://www.kaggle.com/residentmario/data-types-and-missing-values)."
   ]
  },
  {
   "cell_type": "markdown",
   "id": "2c8160bd",
   "metadata": {
    "papermill": {
     "duration": 0.003965,
     "end_time": "2023-10-08T08:05:19.793263",
     "exception": false,
     "start_time": "2023-10-08T08:05:19.789298",
     "status": "completed"
    },
    "tags": []
   },
   "source": [
    "---\n",
    "\n",
    "\n",
    "\n",
    "\n",
    "*Have questions or comments? Visit the [course discussion forum](https://www.kaggle.com/learn/pandas/discussion) to chat with other learners.*"
   ]
  }
 ],
 "metadata": {
  "kernelspec": {
   "display_name": "Python 3",
   "language": "python",
   "name": "python3"
  },
  "language_info": {
   "codemirror_mode": {
    "name": "ipython",
    "version": 3
   },
   "file_extension": ".py",
   "mimetype": "text/x-python",
   "name": "python",
   "nbconvert_exporter": "python",
   "pygments_lexer": "ipython3",
   "version": "3.10.12"
  },
  "papermill": {
   "default_parameters": {},
   "duration": 11.218706,
   "end_time": "2023-10-08T08:05:20.217908",
   "environment_variables": {},
   "exception": null,
   "input_path": "__notebook__.ipynb",
   "output_path": "__notebook__.ipynb",
   "parameters": {},
   "start_time": "2023-10-08T08:05:08.999202",
   "version": "2.4.0"
  }
 },
 "nbformat": 4,
 "nbformat_minor": 5
}
