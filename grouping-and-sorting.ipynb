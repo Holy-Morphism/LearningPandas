{
 "cells": [
  {
   "cell_type": "markdown",
   "id": "e27e081b",
   "metadata": {
    "papermill": {
     "duration": 0.00552,
     "end_time": "2023-10-08T08:08:20.882711",
     "exception": false,
     "start_time": "2023-10-08T08:08:20.877191",
     "status": "completed"
    },
    "tags": []
   },
   "source": [
    "**This notebook is an exercise in the [Pandas](https://www.kaggle.com/learn/pandas) course.  You can reference the tutorial at [this link](https://www.kaggle.com/residentmario/grouping-and-sorting).**\n",
    "\n",
    "---\n"
   ]
  },
  {
   "cell_type": "markdown",
   "id": "3f7df09d",
   "metadata": {
    "papermill": {
     "duration": 0.004474,
     "end_time": "2023-10-08T08:08:20.892480",
     "exception": false,
     "start_time": "2023-10-08T08:08:20.888006",
     "status": "completed"
    },
    "tags": []
   },
   "source": [
    "# Introduction\n",
    "\n",
    "In these exercises we'll apply groupwise analysis to our dataset.\n",
    "\n",
    "Run the code cell below to load the data before running the exercises."
   ]
  },
  {
   "cell_type": "code",
   "execution_count": 1,
   "id": "99515ae4",
   "metadata": {
    "execution": {
     "iopub.execute_input": "2023-10-08T08:08:20.904261Z",
     "iopub.status.busy": "2023-10-08T08:08:20.903496Z",
     "iopub.status.idle": "2023-10-08T08:08:25.229083Z",
     "shell.execute_reply": "2023-10-08T08:08:25.227750Z"
    },
    "papermill": {
     "duration": 4.33461,
     "end_time": "2023-10-08T08:08:25.231726",
     "exception": false,
     "start_time": "2023-10-08T08:08:20.897116",
     "status": "completed"
    },
    "tags": []
   },
   "outputs": [
    {
     "name": "stdout",
     "output_type": "stream",
     "text": [
      "Setup complete.\n"
     ]
    }
   ],
   "source": [
    "import pandas as pd\n",
    "\n",
    "reviews = pd.read_csv(\"../input/wine-reviews/winemag-data-130k-v2.csv\", index_col=0)\n",
    "#pd.set_option(\"display.max_rows\", 5)\n",
    "\n",
    "from learntools.core import binder; binder.bind(globals())\n",
    "from learntools.pandas.grouping_and_sorting import *\n",
    "print(\"Setup complete.\")"
   ]
  },
  {
   "cell_type": "markdown",
   "id": "042400d7",
   "metadata": {
    "papermill": {
     "duration": 0.004756,
     "end_time": "2023-10-08T08:08:25.241750",
     "exception": false,
     "start_time": "2023-10-08T08:08:25.236994",
     "status": "completed"
    },
    "tags": []
   },
   "source": [
    "# Exercises"
   ]
  },
  {
   "cell_type": "markdown",
   "id": "0c124ba7",
   "metadata": {
    "papermill": {
     "duration": 0.004649,
     "end_time": "2023-10-08T08:08:25.251389",
     "exception": false,
     "start_time": "2023-10-08T08:08:25.246740",
     "status": "completed"
    },
    "tags": []
   },
   "source": [
    "## 1.\n",
    "Who are the most common wine reviewers in the dataset? Create a `Series` whose index is the `taster_twitter_handle` category from the dataset, and whose values count how many reviews each person wrote."
   ]
  },
  {
   "cell_type": "code",
   "execution_count": 2,
   "id": "166ed9eb",
   "metadata": {
    "execution": {
     "iopub.execute_input": "2023-10-08T08:08:25.263841Z",
     "iopub.status.busy": "2023-10-08T08:08:25.262431Z",
     "iopub.status.idle": "2023-10-08T08:08:25.284487Z",
     "shell.execute_reply": "2023-10-08T08:08:25.283394Z"
    },
    "papermill": {
     "duration": 0.030525,
     "end_time": "2023-10-08T08:08:25.286615",
     "exception": false,
     "start_time": "2023-10-08T08:08:25.256090",
     "status": "completed"
    },
    "tags": []
   },
   "outputs": [
    {
     "data": {
      "application/javascript": [
       "parent.postMessage({\"jupyterEvent\": \"custom.exercise_interaction\", \"data\": {\"outcomeType\": 1, \"valueTowardsCompletion\": 0.16666666666666666, \"interactionType\": 1, \"questionType\": 1, \"questionId\": \"1_ReviewsWritten\", \"learnToolsVersion\": \"0.3.4\", \"failureMessage\": \"\", \"exceptionClass\": \"\", \"trace\": \"\"}}, \"*\")"
      ],
      "text/plain": [
       "<IPython.core.display.Javascript object>"
      ]
     },
     "metadata": {},
     "output_type": "display_data"
    },
    {
     "data": {
      "text/markdown": [
       "<span style=\"color:#33cc33\">Correct:</span> \n",
       "\n",
       "\n",
       "```python\n",
       "reviews_written = reviews.groupby('taster_twitter_handle').size()\n",
       "```\n",
       "or\n",
       "```python\n",
       "reviews_written = reviews.groupby('taster_twitter_handle').taster_twitter_handle.count()\n",
       "```\n"
      ],
      "text/plain": [
       "Correct: \n",
       "\n",
       "\n",
       "```python\n",
       "reviews_written = reviews.groupby('taster_twitter_handle').size()\n",
       "```\n",
       "or\n",
       "```python\n",
       "reviews_written = reviews.groupby('taster_twitter_handle').taster_twitter_handle.count()\n",
       "```"
      ]
     },
     "metadata": {},
     "output_type": "display_data"
    }
   ],
   "source": [
    "\n",
    "reviews_written = reviews.groupby('taster_twitter_handle').points.count()\n",
    "\n",
    "# Check your answer\n",
    "q1.check()"
   ]
  },
  {
   "cell_type": "code",
   "execution_count": 3,
   "id": "a88b3237",
   "metadata": {
    "execution": {
     "iopub.execute_input": "2023-10-08T08:08:25.299056Z",
     "iopub.status.busy": "2023-10-08T08:08:25.298655Z",
     "iopub.status.idle": "2023-10-08T08:08:25.303395Z",
     "shell.execute_reply": "2023-10-08T08:08:25.301994Z"
    },
    "papermill": {
     "duration": 0.013771,
     "end_time": "2023-10-08T08:08:25.305787",
     "exception": false,
     "start_time": "2023-10-08T08:08:25.292016",
     "status": "completed"
    },
    "tags": []
   },
   "outputs": [],
   "source": [
    "#q1.hint()\n",
    "#q1.solution()"
   ]
  },
  {
   "cell_type": "markdown",
   "id": "493ee0ce",
   "metadata": {
    "papermill": {
     "duration": 0.004995,
     "end_time": "2023-10-08T08:08:25.316132",
     "exception": false,
     "start_time": "2023-10-08T08:08:25.311137",
     "status": "completed"
    },
    "tags": []
   },
   "source": [
    "## 2.\n",
    "What is the best wine I can buy for a given amount of money? Create a `Series` whose index is wine prices and whose values is the maximum number of points a wine costing that much was given in a review. Sort the values by price, ascending (so that `4.0` dollars is at the top and `3300.0` dollars is at the bottom)."
   ]
  },
  {
   "cell_type": "code",
   "execution_count": 4,
   "id": "8350cb35",
   "metadata": {
    "execution": {
     "iopub.execute_input": "2023-10-08T08:08:25.328491Z",
     "iopub.status.busy": "2023-10-08T08:08:25.327739Z",
     "iopub.status.idle": "2023-10-08T08:08:25.341931Z",
     "shell.execute_reply": "2023-10-08T08:08:25.341253Z"
    },
    "papermill": {
     "duration": 0.02247,
     "end_time": "2023-10-08T08:08:25.343758",
     "exception": false,
     "start_time": "2023-10-08T08:08:25.321288",
     "status": "completed"
    },
    "tags": []
   },
   "outputs": [
    {
     "data": {
      "application/javascript": [
       "parent.postMessage({\"jupyterEvent\": \"custom.exercise_interaction\", \"data\": {\"outcomeType\": 1, \"valueTowardsCompletion\": 0.16666666666666666, \"interactionType\": 1, \"questionType\": 1, \"questionId\": \"2_BestRatingPerPrice\", \"learnToolsVersion\": \"0.3.4\", \"failureMessage\": \"\", \"exceptionClass\": \"\", \"trace\": \"\"}}, \"*\")"
      ],
      "text/plain": [
       "<IPython.core.display.Javascript object>"
      ]
     },
     "metadata": {},
     "output_type": "display_data"
    },
    {
     "data": {
      "text/markdown": [
       "<span style=\"color:#33cc33\">Correct</span>"
      ],
      "text/plain": [
       "Correct"
      ]
     },
     "metadata": {},
     "output_type": "display_data"
    }
   ],
   "source": [
    "\n",
    "best_rating_per_price = reviews.groupby('price').points.max()\n",
    "\n",
    "# Check your answer\n",
    "q2.check()"
   ]
  },
  {
   "cell_type": "code",
   "execution_count": 5,
   "id": "1188f6ca",
   "metadata": {
    "execution": {
     "iopub.execute_input": "2023-10-08T08:08:25.356597Z",
     "iopub.status.busy": "2023-10-08T08:08:25.356217Z",
     "iopub.status.idle": "2023-10-08T08:08:25.360455Z",
     "shell.execute_reply": "2023-10-08T08:08:25.359419Z"
    },
    "papermill": {
     "duration": 0.013734,
     "end_time": "2023-10-08T08:08:25.362961",
     "exception": false,
     "start_time": "2023-10-08T08:08:25.349227",
     "status": "completed"
    },
    "tags": []
   },
   "outputs": [],
   "source": [
    "#q2.hint()\n",
    "#q2.solution()"
   ]
  },
  {
   "cell_type": "markdown",
   "id": "478bef25",
   "metadata": {
    "papermill": {
     "duration": 0.005087,
     "end_time": "2023-10-08T08:08:25.373472",
     "exception": false,
     "start_time": "2023-10-08T08:08:25.368385",
     "status": "completed"
    },
    "tags": []
   },
   "source": [
    "## 3.\n",
    "What are the minimum and maximum prices for each `variety` of wine? Create a `DataFrame` whose index is the `variety` category from the dataset and whose values are the `min` and `max` values thereof."
   ]
  },
  {
   "cell_type": "code",
   "execution_count": 6,
   "id": "5ae95296",
   "metadata": {
    "execution": {
     "iopub.execute_input": "2023-10-08T08:08:25.385309Z",
     "iopub.status.busy": "2023-10-08T08:08:25.384929Z",
     "iopub.status.idle": "2023-10-08T08:08:25.417834Z",
     "shell.execute_reply": "2023-10-08T08:08:25.417063Z"
    },
    "papermill": {
     "duration": 0.041883,
     "end_time": "2023-10-08T08:08:25.420297",
     "exception": false,
     "start_time": "2023-10-08T08:08:25.378414",
     "status": "completed"
    },
    "tags": []
   },
   "outputs": [
    {
     "name": "stdout",
     "output_type": "stream",
     "text": [
      "              min    max\n",
      "variety                 \n",
      "Abouriou     15.0   75.0\n",
      "Agiorgitiko  10.0   66.0\n",
      "Aglianico     6.0  180.0\n",
      "Aidani       27.0   27.0\n",
      "Airen         8.0   10.0\n",
      "...           ...    ...\n",
      "Zinfandel     5.0  100.0\n",
      "Zlahtina     13.0   16.0\n",
      "Zweigelt      9.0   70.0\n",
      "Çalkarası    19.0   19.0\n",
      "Žilavka      15.0   15.0\n",
      "\n",
      "[707 rows x 2 columns]\n"
     ]
    },
    {
     "data": {
      "application/javascript": [
       "parent.postMessage({\"jupyterEvent\": \"custom.exercise_interaction\", \"data\": {\"outcomeType\": 1, \"valueTowardsCompletion\": 0.16666666666666666, \"interactionType\": 1, \"questionType\": 1, \"questionId\": \"3_PriceExtremes\", \"learnToolsVersion\": \"0.3.4\", \"failureMessage\": \"\", \"exceptionClass\": \"\", \"trace\": \"\"}}, \"*\")"
      ],
      "text/plain": [
       "<IPython.core.display.Javascript object>"
      ]
     },
     "metadata": {},
     "output_type": "display_data"
    },
    {
     "data": {
      "text/markdown": [
       "<span style=\"color:#33cc33\">Correct</span>"
      ],
      "text/plain": [
       "Correct"
      ]
     },
     "metadata": {},
     "output_type": "display_data"
    }
   ],
   "source": [
    "price_extremes = reviews.groupby('variety').price.agg([min,max])\n",
    "print(price_extremes)\n",
    "# Check your answer\n",
    "q3.check()"
   ]
  },
  {
   "cell_type": "code",
   "execution_count": 7,
   "id": "ab14fbdb",
   "metadata": {
    "execution": {
     "iopub.execute_input": "2023-10-08T08:08:25.434019Z",
     "iopub.status.busy": "2023-10-08T08:08:25.433458Z",
     "iopub.status.idle": "2023-10-08T08:08:25.436847Z",
     "shell.execute_reply": "2023-10-08T08:08:25.436143Z"
    },
    "papermill": {
     "duration": 0.012699,
     "end_time": "2023-10-08T08:08:25.438700",
     "exception": false,
     "start_time": "2023-10-08T08:08:25.426001",
     "status": "completed"
    },
    "tags": []
   },
   "outputs": [],
   "source": [
    "#q3.hint()\n",
    "#q3.solution()"
   ]
  },
  {
   "cell_type": "markdown",
   "id": "1dc3332c",
   "metadata": {
    "papermill": {
     "duration": 0.005661,
     "end_time": "2023-10-08T08:08:25.450154",
     "exception": false,
     "start_time": "2023-10-08T08:08:25.444493",
     "status": "completed"
    },
    "tags": []
   },
   "source": [
    "## 4.\n",
    "What are the most expensive wine varieties? Create a variable `sorted_varieties` containing a copy of the dataframe from the previous question where varieties are sorted in descending order based on minimum price, then on maximum price (to break ties)."
   ]
  },
  {
   "cell_type": "code",
   "execution_count": 8,
   "id": "e2462ec7",
   "metadata": {
    "execution": {
     "iopub.execute_input": "2023-10-08T08:08:25.464429Z",
     "iopub.status.busy": "2023-10-08T08:08:25.463810Z",
     "iopub.status.idle": "2023-10-08T08:08:25.476164Z",
     "shell.execute_reply": "2023-10-08T08:08:25.475429Z"
    },
    "papermill": {
     "duration": 0.022717,
     "end_time": "2023-10-08T08:08:25.478737",
     "exception": false,
     "start_time": "2023-10-08T08:08:25.456020",
     "status": "completed"
    },
    "tags": []
   },
   "outputs": [
    {
     "name": "stdout",
     "output_type": "stream",
     "text": [
      "                                  min    max\n",
      "variety                                     \n",
      "Ramisco                         495.0  495.0\n",
      "Terrantez                       236.0  236.0\n",
      "Francisa                        160.0  160.0\n",
      "Rosenmuskateller                150.0  150.0\n",
      "Tinta Negra Mole                112.0  112.0\n",
      "...                               ...    ...\n",
      "Roscetto                          NaN    NaN\n",
      "Sauvignon Blanc-Sauvignon Gris    NaN    NaN\n",
      "Tempranillo-Malbec                NaN    NaN\n",
      "Vital                             NaN    NaN\n",
      "Zelen                             NaN    NaN\n",
      "\n",
      "[707 rows x 2 columns]\n"
     ]
    },
    {
     "data": {
      "application/javascript": [
       "parent.postMessage({\"jupyterEvent\": \"custom.exercise_interaction\", \"data\": {\"outcomeType\": 1, \"valueTowardsCompletion\": 0.16666666666666666, \"interactionType\": 1, \"questionType\": 1, \"questionId\": \"4_SortedVarieties\", \"learnToolsVersion\": \"0.3.4\", \"failureMessage\": \"\", \"exceptionClass\": \"\", \"trace\": \"\"}}, \"*\")"
      ],
      "text/plain": [
       "<IPython.core.display.Javascript object>"
      ]
     },
     "metadata": {},
     "output_type": "display_data"
    },
    {
     "data": {
      "text/markdown": [
       "<span style=\"color:#33cc33\">Correct</span>"
      ],
      "text/plain": [
       "Correct"
      ]
     },
     "metadata": {},
     "output_type": "display_data"
    }
   ],
   "source": [
    "sorted_varieties = price_extremes.sort_values(by=['min','max'],ascending=False)\n",
    "print(sorted_varieties)\n",
    "# Check your answer\n",
    "q4.check()"
   ]
  },
  {
   "cell_type": "code",
   "execution_count": 9,
   "id": "83de07ce",
   "metadata": {
    "execution": {
     "iopub.execute_input": "2023-10-08T08:08:25.493836Z",
     "iopub.status.busy": "2023-10-08T08:08:25.492997Z",
     "iopub.status.idle": "2023-10-08T08:08:25.496675Z",
     "shell.execute_reply": "2023-10-08T08:08:25.496011Z"
    },
    "papermill": {
     "duration": 0.013437,
     "end_time": "2023-10-08T08:08:25.498637",
     "exception": false,
     "start_time": "2023-10-08T08:08:25.485200",
     "status": "completed"
    },
    "tags": []
   },
   "outputs": [],
   "source": [
    "#q4.hint()\n",
    "#q4.solution()"
   ]
  },
  {
   "cell_type": "markdown",
   "id": "fb6ef7fb",
   "metadata": {
    "papermill": {
     "duration": 0.006129,
     "end_time": "2023-10-08T08:08:25.510998",
     "exception": false,
     "start_time": "2023-10-08T08:08:25.504869",
     "status": "completed"
    },
    "tags": []
   },
   "source": [
    "## 5.\n",
    "Create a `Series` whose index is reviewers and whose values is the average review score given out by that reviewer. Hint: you will need the `taster_name` and `points` columns."
   ]
  },
  {
   "cell_type": "code",
   "execution_count": 10,
   "id": "5951e20a",
   "metadata": {
    "execution": {
     "iopub.execute_input": "2023-10-08T08:08:25.525262Z",
     "iopub.status.busy": "2023-10-08T08:08:25.524675Z",
     "iopub.status.idle": "2023-10-08T08:08:25.547828Z",
     "shell.execute_reply": "2023-10-08T08:08:25.546735Z"
    },
    "papermill": {
     "duration": 0.033032,
     "end_time": "2023-10-08T08:08:25.550061",
     "exception": false,
     "start_time": "2023-10-08T08:08:25.517029",
     "status": "completed"
    },
    "tags": []
   },
   "outputs": [
    {
     "name": "stdout",
     "output_type": "stream",
     "text": [
      "taster_name\n",
      "Alexander Peartree    85.855422\n",
      "Anna Lee C. Iijima    88.415629\n",
      "Anne Krebiehl MW      90.562551\n",
      "Carrie Dykes          86.395683\n",
      "Christina Pickard     87.833333\n",
      "Fiona Adams           86.888889\n",
      "Jeff Jenssen          88.319756\n",
      "Jim Gordon            88.626287\n",
      "Joe Czerwinski        88.536235\n",
      "Kerin O’Keefe         88.867947\n",
      "Lauren Buzzeo         87.739510\n",
      "Matt Kettmann         90.008686\n",
      "Michael Schachner     86.907493\n",
      "Mike DeSimone         89.101167\n",
      "Paul Gregutt          89.082564\n",
      "Roger Voss            88.708003\n",
      "Sean P. Sullivan      88.755739\n",
      "Susan Kostrzewa       86.609217\n",
      "Virginie Boone        89.213379\n",
      "Name: points, dtype: float64\n"
     ]
    },
    {
     "data": {
      "application/javascript": [
       "parent.postMessage({\"jupyterEvent\": \"custom.exercise_interaction\", \"data\": {\"outcomeType\": 1, \"valueTowardsCompletion\": 0.16666666666666666, \"interactionType\": 1, \"questionType\": 1, \"questionId\": \"5_ReviewerMeanRatings\", \"learnToolsVersion\": \"0.3.4\", \"failureMessage\": \"\", \"exceptionClass\": \"\", \"trace\": \"\"}}, \"*\")"
      ],
      "text/plain": [
       "<IPython.core.display.Javascript object>"
      ]
     },
     "metadata": {},
     "output_type": "display_data"
    },
    {
     "data": {
      "text/markdown": [
       "<span style=\"color:#33cc33\">Correct</span>"
      ],
      "text/plain": [
       "Correct"
      ]
     },
     "metadata": {},
     "output_type": "display_data"
    }
   ],
   "source": [
    "reviewer_mean_ratings = reviews.groupby('taster_name').points.mean()\n",
    "print(reviewer_mean_ratings)\n",
    "# Check your answer\n",
    "q5.check()"
   ]
  },
  {
   "cell_type": "code",
   "execution_count": 11,
   "id": "8d6c4a0e",
   "metadata": {
    "execution": {
     "iopub.execute_input": "2023-10-08T08:08:25.564700Z",
     "iopub.status.busy": "2023-10-08T08:08:25.564344Z",
     "iopub.status.idle": "2023-10-08T08:08:25.568703Z",
     "shell.execute_reply": "2023-10-08T08:08:25.567503Z"
    },
    "papermill": {
     "duration": 0.014436,
     "end_time": "2023-10-08T08:08:25.570673",
     "exception": false,
     "start_time": "2023-10-08T08:08:25.556237",
     "status": "completed"
    },
    "tags": []
   },
   "outputs": [],
   "source": [
    "#q5.hint()\n",
    "#q5.solution()"
   ]
  },
  {
   "cell_type": "markdown",
   "id": "b3b2ec46",
   "metadata": {
    "papermill": {
     "duration": 0.006423,
     "end_time": "2023-10-08T08:08:25.583608",
     "exception": false,
     "start_time": "2023-10-08T08:08:25.577185",
     "status": "completed"
    },
    "tags": []
   },
   "source": [
    "Are there significant differences in the average scores assigned by the various reviewers? Run the cell below to use the `describe()` method to see a summary of the range of values."
   ]
  },
  {
   "cell_type": "code",
   "execution_count": 12,
   "id": "4c865871",
   "metadata": {
    "execution": {
     "iopub.execute_input": "2023-10-08T08:08:25.597926Z",
     "iopub.status.busy": "2023-10-08T08:08:25.597521Z",
     "iopub.status.idle": "2023-10-08T08:08:25.610238Z",
     "shell.execute_reply": "2023-10-08T08:08:25.609125Z"
    },
    "papermill": {
     "duration": 0.022597,
     "end_time": "2023-10-08T08:08:25.612446",
     "exception": false,
     "start_time": "2023-10-08T08:08:25.589849",
     "status": "completed"
    },
    "tags": []
   },
   "outputs": [
    {
     "data": {
      "text/plain": [
       "count    19.000000\n",
       "mean     88.233026\n",
       "std       1.243610\n",
       "min      85.855422\n",
       "25%      87.323501\n",
       "50%      88.536235\n",
       "75%      88.975256\n",
       "max      90.562551\n",
       "Name: points, dtype: float64"
      ]
     },
     "execution_count": 12,
     "metadata": {},
     "output_type": "execute_result"
    }
   ],
   "source": [
    "reviewer_mean_ratings.describe()"
   ]
  },
  {
   "cell_type": "markdown",
   "id": "5cb6600a",
   "metadata": {
    "papermill": {
     "duration": 0.006069,
     "end_time": "2023-10-08T08:08:25.625128",
     "exception": false,
     "start_time": "2023-10-08T08:08:25.619059",
     "status": "completed"
    },
    "tags": []
   },
   "source": [
    "## 6.\n",
    "What combination of countries and varieties are most common? Create a `Series` whose index is a `MultiIndex`of `{country, variety}` pairs. For example, a pinot noir produced in the US should map to `{\"US\", \"Pinot Noir\"}`. Sort the values in the `Series` in descending order based on wine count."
   ]
  },
  {
   "cell_type": "code",
   "execution_count": 13,
   "id": "38bb5c06",
   "metadata": {
    "execution": {
     "iopub.execute_input": "2023-10-08T08:08:25.640209Z",
     "iopub.status.busy": "2023-10-08T08:08:25.639840Z",
     "iopub.status.idle": "2023-10-08T08:08:25.684656Z",
     "shell.execute_reply": "2023-10-08T08:08:25.683432Z"
    },
    "papermill": {
     "duration": 0.055671,
     "end_time": "2023-10-08T08:08:25.687208",
     "exception": false,
     "start_time": "2023-10-08T08:08:25.631537",
     "status": "completed"
    },
    "tags": []
   },
   "outputs": [
    {
     "name": "stdout",
     "output_type": "stream",
     "text": [
      "country  variety                 \n",
      "US       Pinot Noir                  9885\n",
      "         Cabernet Sauvignon          7315\n",
      "         Chardonnay                  6801\n",
      "France   Bordeaux-style Red Blend    4725\n",
      "Italy    Red Blend                   3624\n",
      "                                     ... \n",
      "Mexico   Cinsault                       1\n",
      "         Grenache                       1\n",
      "         Merlot                         1\n",
      "         Rosado                         1\n",
      "Uruguay  White Blend                    1\n",
      "Length: 1612, dtype: int64\n"
     ]
    },
    {
     "data": {
      "application/javascript": [
       "parent.postMessage({\"jupyterEvent\": \"custom.exercise_interaction\", \"data\": {\"outcomeType\": 1, \"valueTowardsCompletion\": 0.16666666666666666, \"interactionType\": 1, \"questionType\": 1, \"questionId\": \"6_GroupbyCountryVariety\", \"learnToolsVersion\": \"0.3.4\", \"failureMessage\": \"\", \"exceptionClass\": \"\", \"trace\": \"\"}}, \"*\")"
      ],
      "text/plain": [
       "<IPython.core.display.Javascript object>"
      ]
     },
     "metadata": {},
     "output_type": "display_data"
    },
    {
     "data": {
      "text/markdown": [
       "<span style=\"color:#33cc33\">Correct</span>"
      ],
      "text/plain": [
       "Correct"
      ]
     },
     "metadata": {},
     "output_type": "display_data"
    }
   ],
   "source": [
    "country_variety_counts = reviews.groupby(['country', 'variety']).size().sort_values(ascending=False)\n",
    "print(country_variety_counts)\n",
    "# Check your answer\n",
    "q6.check()"
   ]
  },
  {
   "cell_type": "code",
   "execution_count": 14,
   "id": "7e2615e2",
   "metadata": {
    "execution": {
     "iopub.execute_input": "2023-10-08T08:08:25.703031Z",
     "iopub.status.busy": "2023-10-08T08:08:25.702636Z",
     "iopub.status.idle": "2023-10-08T08:08:25.707837Z",
     "shell.execute_reply": "2023-10-08T08:08:25.706648Z"
    },
    "papermill": {
     "duration": 0.015723,
     "end_time": "2023-10-08T08:08:25.709935",
     "exception": false,
     "start_time": "2023-10-08T08:08:25.694212",
     "status": "completed"
    },
    "tags": []
   },
   "outputs": [],
   "source": [
    "#q6.hint()\n",
    "#q6.solution()"
   ]
  },
  {
   "cell_type": "markdown",
   "id": "bb0d15e7",
   "metadata": {
    "papermill": {
     "duration": 0.006276,
     "end_time": "2023-10-08T08:08:25.723033",
     "exception": false,
     "start_time": "2023-10-08T08:08:25.716757",
     "status": "completed"
    },
    "tags": []
   },
   "source": [
    "# Keep going\n",
    "\n",
    "Move on to the [**data types and missing data**](https://www.kaggle.com/residentmario/data-types-and-missing-values)."
   ]
  },
  {
   "cell_type": "markdown",
   "id": "7d3bac3b",
   "metadata": {
    "papermill": {
     "duration": 0.006057,
     "end_time": "2023-10-08T08:08:25.735536",
     "exception": false,
     "start_time": "2023-10-08T08:08:25.729479",
     "status": "completed"
    },
    "tags": []
   },
   "source": [
    "---\n",
    "\n",
    "\n",
    "\n",
    "\n",
    "*Have questions or comments? Visit the [course discussion forum](https://www.kaggle.com/learn/pandas/discussion) to chat with other learners.*"
   ]
  }
 ],
 "metadata": {
  "kernelspec": {
   "display_name": "Python 3",
   "language": "python",
   "name": "python3"
  },
  "language_info": {
   "codemirror_mode": {
    "name": "ipython",
    "version": 3
   },
   "file_extension": ".py",
   "mimetype": "text/x-python",
   "name": "python",
   "nbconvert_exporter": "python",
   "pygments_lexer": "ipython3",
   "version": "3.10.12"
  },
  "papermill": {
   "default_parameters": {},
   "duration": 9.783482,
   "end_time": "2023-10-08T08:08:26.363480",
   "environment_variables": {},
   "exception": null,
   "input_path": "__notebook__.ipynb",
   "output_path": "__notebook__.ipynb",
   "parameters": {},
   "start_time": "2023-10-08T08:08:16.579998",
   "version": "2.4.0"
  }
 },
 "nbformat": 4,
 "nbformat_minor": 5
}
