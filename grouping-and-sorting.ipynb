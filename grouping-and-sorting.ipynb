{
 "cells": [
  {
   "cell_type": "markdown",
   "id": "6dea1caa",
   "metadata": {
    "papermill": {
     "duration": 0.004822,
     "end_time": "2023-10-08T08:03:50.164087",
     "exception": false,
     "start_time": "2023-10-08T08:03:50.159265",
     "status": "completed"
    },
    "tags": []
   },
   "source": [
    "**This notebook is an exercise in the [Pandas](https://www.kaggle.com/learn/pandas) course.  You can reference the tutorial at [this link](https://www.kaggle.com/residentmario/grouping-and-sorting).**\n",
    "\n",
    "---\n"
   ]
  },
  {
   "cell_type": "markdown",
   "id": "28de6d6f",
   "metadata": {
    "papermill": {
     "duration": 0.003915,
     "end_time": "2023-10-08T08:03:50.172353",
     "exception": false,
     "start_time": "2023-10-08T08:03:50.168438",
     "status": "completed"
    },
    "tags": []
   },
   "source": [
    "# Introduction\n",
    "\n",
    "In these exercises we'll apply groupwise analysis to our dataset.\n",
    "\n",
    "Run the code cell below to load the data before running the exercises."
   ]
  },
  {
   "cell_type": "code",
   "execution_count": 1,
   "id": "3f1886ca",
   "metadata": {
    "execution": {
     "iopub.execute_input": "2023-10-08T08:03:50.182770Z",
     "iopub.status.busy": "2023-10-08T08:03:50.182188Z",
     "iopub.status.idle": "2023-10-08T08:03:53.513030Z",
     "shell.execute_reply": "2023-10-08T08:03:53.511960Z"
    },
    "papermill": {
     "duration": 3.338704,
     "end_time": "2023-10-08T08:03:53.515186",
     "exception": false,
     "start_time": "2023-10-08T08:03:50.176482",
     "status": "completed"
    },
    "tags": []
   },
   "outputs": [
    {
     "name": "stdout",
     "output_type": "stream",
     "text": [
      "Setup complete.\n"
     ]
    }
   ],
   "source": [
    "import pandas as pd\n",
    "\n",
    "reviews = pd.read_csv(\"../input/wine-reviews/winemag-data-130k-v2.csv\", index_col=0)\n",
    "#pd.set_option(\"display.max_rows\", 5)\n",
    "\n",
    "from learntools.core import binder; binder.bind(globals())\n",
    "from learntools.pandas.grouping_and_sorting import *\n",
    "print(\"Setup complete.\")"
   ]
  },
  {
   "cell_type": "markdown",
   "id": "920228fc",
   "metadata": {
    "papermill": {
     "duration": 0.004071,
     "end_time": "2023-10-08T08:03:53.523868",
     "exception": false,
     "start_time": "2023-10-08T08:03:53.519797",
     "status": "completed"
    },
    "tags": []
   },
   "source": [
    "# Exercises"
   ]
  },
  {
   "cell_type": "markdown",
   "id": "cdfaf32a",
   "metadata": {
    "papermill": {
     "duration": 0.0046,
     "end_time": "2023-10-08T08:03:53.532683",
     "exception": false,
     "start_time": "2023-10-08T08:03:53.528083",
     "status": "completed"
    },
    "tags": []
   },
   "source": [
    "## 1.\n",
    "Who are the most common wine reviewers in the dataset? Create a `Series` whose index is the `taster_twitter_handle` category from the dataset, and whose values count how many reviews each person wrote."
   ]
  },
  {
   "cell_type": "code",
   "execution_count": 2,
   "id": "a7211307",
   "metadata": {
    "execution": {
     "iopub.execute_input": "2023-10-08T08:03:53.542957Z",
     "iopub.status.busy": "2023-10-08T08:03:53.542358Z",
     "iopub.status.idle": "2023-10-08T08:03:53.563011Z",
     "shell.execute_reply": "2023-10-08T08:03:53.561890Z"
    },
    "papermill": {
     "duration": 0.028145,
     "end_time": "2023-10-08T08:03:53.565022",
     "exception": false,
     "start_time": "2023-10-08T08:03:53.536877",
     "status": "completed"
    },
    "tags": []
   },
   "outputs": [
    {
     "data": {
      "application/javascript": [
       "parent.postMessage({\"jupyterEvent\": \"custom.exercise_interaction\", \"data\": {\"outcomeType\": 1, \"valueTowardsCompletion\": 0.16666666666666666, \"interactionType\": 1, \"questionType\": 1, \"questionId\": \"1_ReviewsWritten\", \"learnToolsVersion\": \"0.3.4\", \"failureMessage\": \"\", \"exceptionClass\": \"\", \"trace\": \"\"}}, \"*\")"
      ],
      "text/plain": [
       "<IPython.core.display.Javascript object>"
      ]
     },
     "metadata": {},
     "output_type": "display_data"
    },
    {
     "data": {
      "text/markdown": [
       "<span style=\"color:#33cc33\">Correct:</span> \n",
       "\n",
       "\n",
       "```python\n",
       "reviews_written = reviews.groupby('taster_twitter_handle').size()\n",
       "```\n",
       "or\n",
       "```python\n",
       "reviews_written = reviews.groupby('taster_twitter_handle').taster_twitter_handle.count()\n",
       "```\n"
      ],
      "text/plain": [
       "Correct: \n",
       "\n",
       "\n",
       "```python\n",
       "reviews_written = reviews.groupby('taster_twitter_handle').size()\n",
       "```\n",
       "or\n",
       "```python\n",
       "reviews_written = reviews.groupby('taster_twitter_handle').taster_twitter_handle.count()\n",
       "```"
      ]
     },
     "metadata": {},
     "output_type": "display_data"
    }
   ],
   "source": [
    "\n",
    "reviews_written = reviews.groupby('taster_twitter_handle').points.count()\n",
    "\n",
    "# Check your answer\n",
    "q1.check()"
   ]
  },
  {
   "cell_type": "code",
   "execution_count": 3,
   "id": "c1a4ecc8",
   "metadata": {
    "execution": {
     "iopub.execute_input": "2023-10-08T08:03:53.575646Z",
     "iopub.status.busy": "2023-10-08T08:03:53.575307Z",
     "iopub.status.idle": "2023-10-08T08:03:53.579137Z",
     "shell.execute_reply": "2023-10-08T08:03:53.578315Z"
    },
    "papermill": {
     "duration": 0.011174,
     "end_time": "2023-10-08T08:03:53.580828",
     "exception": false,
     "start_time": "2023-10-08T08:03:53.569654",
     "status": "completed"
    },
    "tags": []
   },
   "outputs": [],
   "source": [
    "#q1.hint()\n",
    "#q1.solution()"
   ]
  },
  {
   "cell_type": "markdown",
   "id": "de07a38b",
   "metadata": {
    "papermill": {
     "duration": 0.004334,
     "end_time": "2023-10-08T08:03:53.589696",
     "exception": false,
     "start_time": "2023-10-08T08:03:53.585362",
     "status": "completed"
    },
    "tags": []
   },
   "source": [
    "## 2.\n",
    "What is the best wine I can buy for a given amount of money? Create a `Series` whose index is wine prices and whose values is the maximum number of points a wine costing that much was given in a review. Sort the values by price, ascending (so that `4.0` dollars is at the top and `3300.0` dollars is at the bottom)."
   ]
  },
  {
   "cell_type": "code",
   "execution_count": 4,
   "id": "1de65778",
   "metadata": {
    "execution": {
     "iopub.execute_input": "2023-10-08T08:03:53.599840Z",
     "iopub.status.busy": "2023-10-08T08:03:53.599545Z",
     "iopub.status.idle": "2023-10-08T08:03:53.610334Z",
     "shell.execute_reply": "2023-10-08T08:03:53.609409Z"
    },
    "papermill": {
     "duration": 0.018106,
     "end_time": "2023-10-08T08:03:53.612079",
     "exception": false,
     "start_time": "2023-10-08T08:03:53.593973",
     "status": "completed"
    },
    "tags": []
   },
   "outputs": [
    {
     "data": {
      "application/javascript": [
       "parent.postMessage({\"jupyterEvent\": \"custom.exercise_interaction\", \"data\": {\"outcomeType\": 1, \"valueTowardsCompletion\": 0.16666666666666666, \"interactionType\": 1, \"questionType\": 1, \"questionId\": \"2_BestRatingPerPrice\", \"learnToolsVersion\": \"0.3.4\", \"failureMessage\": \"\", \"exceptionClass\": \"\", \"trace\": \"\"}}, \"*\")"
      ],
      "text/plain": [
       "<IPython.core.display.Javascript object>"
      ]
     },
     "metadata": {},
     "output_type": "display_data"
    },
    {
     "data": {
      "text/markdown": [
       "<span style=\"color:#33cc33\">Correct</span>"
      ],
      "text/plain": [
       "Correct"
      ]
     },
     "metadata": {},
     "output_type": "display_data"
    }
   ],
   "source": [
    "\n",
    "best_rating_per_price = reviews.groupby('price').points.max()\n",
    "\n",
    "# Check your answer\n",
    "q2.check()"
   ]
  },
  {
   "cell_type": "code",
   "execution_count": 5,
   "id": "3f571833",
   "metadata": {
    "execution": {
     "iopub.execute_input": "2023-10-08T08:03:53.623197Z",
     "iopub.status.busy": "2023-10-08T08:03:53.622834Z",
     "iopub.status.idle": "2023-10-08T08:03:53.627167Z",
     "shell.execute_reply": "2023-10-08T08:03:53.625916Z"
    },
    "papermill": {
     "duration": 0.012103,
     "end_time": "2023-10-08T08:03:53.629106",
     "exception": false,
     "start_time": "2023-10-08T08:03:53.617003",
     "status": "completed"
    },
    "tags": []
   },
   "outputs": [],
   "source": [
    "#q2.hint()\n",
    "#q2.solution()"
   ]
  },
  {
   "cell_type": "markdown",
   "id": "ad351181",
   "metadata": {
    "papermill": {
     "duration": 0.004564,
     "end_time": "2023-10-08T08:03:53.638474",
     "exception": false,
     "start_time": "2023-10-08T08:03:53.633910",
     "status": "completed"
    },
    "tags": []
   },
   "source": [
    "## 3.\n",
    "What are the minimum and maximum prices for each `variety` of wine? Create a `DataFrame` whose index is the `variety` category from the dataset and whose values are the `min` and `max` values thereof."
   ]
  },
  {
   "cell_type": "code",
   "execution_count": 6,
   "id": "b4e3e8e5",
   "metadata": {
    "execution": {
     "iopub.execute_input": "2023-10-08T08:03:53.649287Z",
     "iopub.status.busy": "2023-10-08T08:03:53.648934Z",
     "iopub.status.idle": "2023-10-08T08:03:53.679281Z",
     "shell.execute_reply": "2023-10-08T08:03:53.678256Z"
    },
    "papermill": {
     "duration": 0.038034,
     "end_time": "2023-10-08T08:03:53.681119",
     "exception": false,
     "start_time": "2023-10-08T08:03:53.643085",
     "status": "completed"
    },
    "tags": []
   },
   "outputs": [
    {
     "name": "stdout",
     "output_type": "stream",
     "text": [
      "              min    max\n",
      "variety                 \n",
      "Abouriou     15.0   75.0\n",
      "Agiorgitiko  10.0   66.0\n",
      "Aglianico     6.0  180.0\n",
      "Aidani       27.0   27.0\n",
      "Airen         8.0   10.0\n",
      "...           ...    ...\n",
      "Zinfandel     5.0  100.0\n",
      "Zlahtina     13.0   16.0\n",
      "Zweigelt      9.0   70.0\n",
      "Çalkarası    19.0   19.0\n",
      "Žilavka      15.0   15.0\n",
      "\n",
      "[707 rows x 2 columns]\n"
     ]
    },
    {
     "data": {
      "application/javascript": [
       "parent.postMessage({\"jupyterEvent\": \"custom.exercise_interaction\", \"data\": {\"outcomeType\": 1, \"valueTowardsCompletion\": 0.16666666666666666, \"interactionType\": 1, \"questionType\": 1, \"questionId\": \"3_PriceExtremes\", \"learnToolsVersion\": \"0.3.4\", \"failureMessage\": \"\", \"exceptionClass\": \"\", \"trace\": \"\"}}, \"*\")"
      ],
      "text/plain": [
       "<IPython.core.display.Javascript object>"
      ]
     },
     "metadata": {},
     "output_type": "display_data"
    },
    {
     "data": {
      "text/markdown": [
       "<span style=\"color:#33cc33\">Correct</span>"
      ],
      "text/plain": [
       "Correct"
      ]
     },
     "metadata": {},
     "output_type": "display_data"
    }
   ],
   "source": [
    "price_extremes = reviews.groupby('variety').price.agg([min,max])\n",
    "print(price_extremes)\n",
    "# Check your answer\n",
    "q3.check()"
   ]
  },
  {
   "cell_type": "code",
   "execution_count": 7,
   "id": "c04232b6",
   "metadata": {
    "execution": {
     "iopub.execute_input": "2023-10-08T08:03:53.692770Z",
     "iopub.status.busy": "2023-10-08T08:03:53.692423Z",
     "iopub.status.idle": "2023-10-08T08:03:53.696591Z",
     "shell.execute_reply": "2023-10-08T08:03:53.695602Z"
    },
    "papermill": {
     "duration": 0.01239,
     "end_time": "2023-10-08T08:03:53.698645",
     "exception": false,
     "start_time": "2023-10-08T08:03:53.686255",
     "status": "completed"
    },
    "tags": []
   },
   "outputs": [],
   "source": [
    "#q3.hint()\n",
    "#q3.solution()"
   ]
  },
  {
   "cell_type": "markdown",
   "id": "197fb4e8",
   "metadata": {
    "papermill": {
     "duration": 0.004934,
     "end_time": "2023-10-08T08:03:53.708861",
     "exception": false,
     "start_time": "2023-10-08T08:03:53.703927",
     "status": "completed"
    },
    "tags": []
   },
   "source": [
    "## 4.\n",
    "What are the most expensive wine varieties? Create a variable `sorted_varieties` containing a copy of the dataframe from the previous question where varieties are sorted in descending order based on minimum price, then on maximum price (to break ties)."
   ]
  },
  {
   "cell_type": "code",
   "execution_count": 8,
   "id": "0968fc19",
   "metadata": {
    "execution": {
     "iopub.execute_input": "2023-10-08T08:03:53.720842Z",
     "iopub.status.busy": "2023-10-08T08:03:53.720493Z",
     "iopub.status.idle": "2023-10-08T08:03:53.735442Z",
     "shell.execute_reply": "2023-10-08T08:03:53.734468Z"
    },
    "papermill": {
     "duration": 0.023185,
     "end_time": "2023-10-08T08:03:53.737311",
     "exception": false,
     "start_time": "2023-10-08T08:03:53.714126",
     "status": "completed"
    },
    "tags": []
   },
   "outputs": [
    {
     "name": "stdout",
     "output_type": "stream",
     "text": [
      "                                  min    max\n",
      "variety                                     \n",
      "Ramisco                         495.0  495.0\n",
      "Terrantez                       236.0  236.0\n",
      "Francisa                        160.0  160.0\n",
      "Rosenmuskateller                150.0  150.0\n",
      "Tinta Negra Mole                112.0  112.0\n",
      "...                               ...    ...\n",
      "Roscetto                          NaN    NaN\n",
      "Sauvignon Blanc-Sauvignon Gris    NaN    NaN\n",
      "Tempranillo-Malbec                NaN    NaN\n",
      "Vital                             NaN    NaN\n",
      "Zelen                             NaN    NaN\n",
      "\n",
      "[707 rows x 2 columns]\n"
     ]
    },
    {
     "data": {
      "application/javascript": [
       "parent.postMessage({\"jupyterEvent\": \"custom.exercise_interaction\", \"data\": {\"outcomeType\": 1, \"valueTowardsCompletion\": 0.16666666666666666, \"interactionType\": 1, \"questionType\": 1, \"questionId\": \"4_SortedVarieties\", \"learnToolsVersion\": \"0.3.4\", \"failureMessage\": \"\", \"exceptionClass\": \"\", \"trace\": \"\"}}, \"*\")"
      ],
      "text/plain": [
       "<IPython.core.display.Javascript object>"
      ]
     },
     "metadata": {},
     "output_type": "display_data"
    },
    {
     "data": {
      "text/markdown": [
       "<span style=\"color:#33cc33\">Correct</span>"
      ],
      "text/plain": [
       "Correct"
      ]
     },
     "metadata": {},
     "output_type": "display_data"
    }
   ],
   "source": [
    "sorted_varieties = price_extremes.sort_values(by=['min','max'],ascending=False)\n",
    "print(sorted_varieties)\n",
    "# Check your answer\n",
    "q4.check()"
   ]
  },
  {
   "cell_type": "code",
   "execution_count": 9,
   "id": "713777fd",
   "metadata": {
    "execution": {
     "iopub.execute_input": "2023-10-08T08:03:53.749768Z",
     "iopub.status.busy": "2023-10-08T08:03:53.749424Z",
     "iopub.status.idle": "2023-10-08T08:03:53.753885Z",
     "shell.execute_reply": "2023-10-08T08:03:53.753082Z"
    },
    "papermill": {
     "duration": 0.012937,
     "end_time": "2023-10-08T08:03:53.755812",
     "exception": false,
     "start_time": "2023-10-08T08:03:53.742875",
     "status": "completed"
    },
    "tags": []
   },
   "outputs": [],
   "source": [
    "#q4.hint()\n",
    "#q4.solution()"
   ]
  },
  {
   "cell_type": "markdown",
   "id": "ed6d46b7",
   "metadata": {
    "papermill": {
     "duration": 0.00531,
     "end_time": "2023-10-08T08:03:53.766667",
     "exception": false,
     "start_time": "2023-10-08T08:03:53.761357",
     "status": "completed"
    },
    "tags": []
   },
   "source": [
    "## 5.\n",
    "Create a `Series` whose index is reviewers and whose values is the average review score given out by that reviewer. Hint: you will need the `taster_name` and `points` columns."
   ]
  },
  {
   "cell_type": "code",
   "execution_count": 10,
   "id": "41589696",
   "metadata": {
    "execution": {
     "iopub.execute_input": "2023-10-08T08:03:53.779843Z",
     "iopub.status.busy": "2023-10-08T08:03:53.779489Z",
     "iopub.status.idle": "2023-10-08T08:03:53.801766Z",
     "shell.execute_reply": "2023-10-08T08:03:53.800871Z"
    },
    "papermill": {
     "duration": 0.031071,
     "end_time": "2023-10-08T08:03:53.803513",
     "exception": false,
     "start_time": "2023-10-08T08:03:53.772442",
     "status": "completed"
    },
    "tags": []
   },
   "outputs": [
    {
     "name": "stdout",
     "output_type": "stream",
     "text": [
      "taster_name\n",
      "Alexander Peartree    85.855422\n",
      "Anna Lee C. Iijima    88.415629\n",
      "Anne Krebiehl MW      90.562551\n",
      "Carrie Dykes          86.395683\n",
      "Christina Pickard     87.833333\n",
      "Fiona Adams           86.888889\n",
      "Jeff Jenssen          88.319756\n",
      "Jim Gordon            88.626287\n",
      "Joe Czerwinski        88.536235\n",
      "Kerin O’Keefe         88.867947\n",
      "Lauren Buzzeo         87.739510\n",
      "Matt Kettmann         90.008686\n",
      "Michael Schachner     86.907493\n",
      "Mike DeSimone         89.101167\n",
      "Paul Gregutt          89.082564\n",
      "Roger Voss            88.708003\n",
      "Sean P. Sullivan      88.755739\n",
      "Susan Kostrzewa       86.609217\n",
      "Virginie Boone        89.213379\n",
      "Name: points, dtype: float64\n"
     ]
    },
    {
     "data": {
      "application/javascript": [
       "parent.postMessage({\"jupyterEvent\": \"custom.exercise_interaction\", \"data\": {\"outcomeType\": 1, \"valueTowardsCompletion\": 0.16666666666666666, \"interactionType\": 1, \"questionType\": 1, \"questionId\": \"5_ReviewerMeanRatings\", \"learnToolsVersion\": \"0.3.4\", \"failureMessage\": \"\", \"exceptionClass\": \"\", \"trace\": \"\"}}, \"*\")"
      ],
      "text/plain": [
       "<IPython.core.display.Javascript object>"
      ]
     },
     "metadata": {},
     "output_type": "display_data"
    },
    {
     "data": {
      "text/markdown": [
       "<span style=\"color:#33cc33\">Correct</span>"
      ],
      "text/plain": [
       "Correct"
      ]
     },
     "metadata": {},
     "output_type": "display_data"
    }
   ],
   "source": [
    "reviewer_mean_ratings = reviews.groupby('taster_name').points.mean()\n",
    "print(reviewer_mean_ratings)\n",
    "# Check your answer\n",
    "q5.check()"
   ]
  },
  {
   "cell_type": "code",
   "execution_count": 11,
   "id": "7e83811a",
   "metadata": {
    "execution": {
     "iopub.execute_input": "2023-10-08T08:03:53.816605Z",
     "iopub.status.busy": "2023-10-08T08:03:53.816239Z",
     "iopub.status.idle": "2023-10-08T08:03:53.820716Z",
     "shell.execute_reply": "2023-10-08T08:03:53.819654Z"
    },
    "papermill": {
     "duration": 0.01359,
     "end_time": "2023-10-08T08:03:53.822580",
     "exception": false,
     "start_time": "2023-10-08T08:03:53.808990",
     "status": "completed"
    },
    "tags": []
   },
   "outputs": [],
   "source": [
    "#q5.hint()\n",
    "#q5.solution()"
   ]
  },
  {
   "cell_type": "markdown",
   "id": "5254fe73",
   "metadata": {
    "papermill": {
     "duration": 0.005463,
     "end_time": "2023-10-08T08:03:53.833890",
     "exception": false,
     "start_time": "2023-10-08T08:03:53.828427",
     "status": "completed"
    },
    "tags": []
   },
   "source": [
    "Are there significant differences in the average scores assigned by the various reviewers? Run the cell below to use the `describe()` method to see a summary of the range of values."
   ]
  },
  {
   "cell_type": "code",
   "execution_count": 12,
   "id": "3a9dfe61",
   "metadata": {
    "execution": {
     "iopub.execute_input": "2023-10-08T08:03:53.846922Z",
     "iopub.status.busy": "2023-10-08T08:03:53.846586Z",
     "iopub.status.idle": "2023-10-08T08:03:53.857813Z",
     "shell.execute_reply": "2023-10-08T08:03:53.856812Z"
    },
    "papermill": {
     "duration": 0.020237,
     "end_time": "2023-10-08T08:03:53.859779",
     "exception": false,
     "start_time": "2023-10-08T08:03:53.839542",
     "status": "completed"
    },
    "tags": []
   },
   "outputs": [
    {
     "data": {
      "text/plain": [
       "count    19.000000\n",
       "mean     88.233026\n",
       "std       1.243610\n",
       "min      85.855422\n",
       "25%      87.323501\n",
       "50%      88.536235\n",
       "75%      88.975256\n",
       "max      90.562551\n",
       "Name: points, dtype: float64"
      ]
     },
     "execution_count": 12,
     "metadata": {},
     "output_type": "execute_result"
    }
   ],
   "source": [
    "reviewer_mean_ratings.describe()"
   ]
  },
  {
   "cell_type": "markdown",
   "id": "dc07fd62",
   "metadata": {
    "papermill": {
     "duration": 0.005541,
     "end_time": "2023-10-08T08:03:53.871142",
     "exception": false,
     "start_time": "2023-10-08T08:03:53.865601",
     "status": "completed"
    },
    "tags": []
   },
   "source": [
    "## 6.\n",
    "What combination of countries and varieties are most common? Create a `Series` whose index is a `MultiIndex`of `{country, variety}` pairs. For example, a pinot noir produced in the US should map to `{\"US\", \"Pinot Noir\"}`. Sort the values in the `Series` in descending order based on wine count."
   ]
  },
  {
   "cell_type": "code",
   "execution_count": 13,
   "id": "518f7c5d",
   "metadata": {
    "execution": {
     "iopub.execute_input": "2023-10-08T08:03:53.884318Z",
     "iopub.status.busy": "2023-10-08T08:03:53.883941Z",
     "iopub.status.idle": "2023-10-08T08:03:53.924886Z",
     "shell.execute_reply": "2023-10-08T08:03:53.923877Z"
    },
    "papermill": {
     "duration": 0.049779,
     "end_time": "2023-10-08T08:03:53.926618",
     "exception": false,
     "start_time": "2023-10-08T08:03:53.876839",
     "status": "completed"
    },
    "tags": []
   },
   "outputs": [
    {
     "name": "stdout",
     "output_type": "stream",
     "text": [
      "country  variety                 \n",
      "US       Pinot Noir                  9885\n",
      "         Cabernet Sauvignon          7315\n",
      "         Chardonnay                  6801\n",
      "France   Bordeaux-style Red Blend    4725\n",
      "Italy    Red Blend                   3624\n",
      "                                     ... \n",
      "Mexico   Cinsault                       1\n",
      "         Grenache                       1\n",
      "         Merlot                         1\n",
      "         Rosado                         1\n",
      "Uruguay  White Blend                    1\n",
      "Length: 1612, dtype: int64\n"
     ]
    },
    {
     "data": {
      "application/javascript": [
       "parent.postMessage({\"jupyterEvent\": \"custom.exercise_interaction\", \"data\": {\"outcomeType\": 1, \"valueTowardsCompletion\": 0.16666666666666666, \"interactionType\": 1, \"questionType\": 1, \"questionId\": \"6_GroupbyCountryVariety\", \"learnToolsVersion\": \"0.3.4\", \"failureMessage\": \"\", \"exceptionClass\": \"\", \"trace\": \"\"}}, \"*\")"
      ],
      "text/plain": [
       "<IPython.core.display.Javascript object>"
      ]
     },
     "metadata": {},
     "output_type": "display_data"
    },
    {
     "data": {
      "text/markdown": [
       "<span style=\"color:#33cc33\">Correct</span>"
      ],
      "text/plain": [
       "Correct"
      ]
     },
     "metadata": {},
     "output_type": "display_data"
    }
   ],
   "source": [
    "country_variety_counts = reviews.groupby(['country', 'variety']).size().sort_values(ascending=False)\n",
    "print(country_variety_counts)\n",
    "# Check your answer\n",
    "q6.check()"
   ]
  },
  {
   "cell_type": "code",
   "execution_count": 14,
   "id": "883a6ee8",
   "metadata": {
    "execution": {
     "iopub.execute_input": "2023-10-08T08:03:53.940305Z",
     "iopub.status.busy": "2023-10-08T08:03:53.939930Z",
     "iopub.status.idle": "2023-10-08T08:03:53.943819Z",
     "shell.execute_reply": "2023-10-08T08:03:53.942810Z"
    },
    "papermill": {
     "duration": 0.012948,
     "end_time": "2023-10-08T08:03:53.945623",
     "exception": false,
     "start_time": "2023-10-08T08:03:53.932675",
     "status": "completed"
    },
    "tags": []
   },
   "outputs": [],
   "source": [
    "#q6.hint()\n",
    "#q6.solution()"
   ]
  },
  {
   "cell_type": "markdown",
   "id": "bb30ad79",
   "metadata": {
    "papermill": {
     "duration": 0.005813,
     "end_time": "2023-10-08T08:03:53.957665",
     "exception": false,
     "start_time": "2023-10-08T08:03:53.951852",
     "status": "completed"
    },
    "tags": []
   },
   "source": [
    "# Keep going\n",
    "\n",
    "Move on to the [**data types and missing data**](https://www.kaggle.com/residentmario/data-types-and-missing-values)."
   ]
  },
  {
   "cell_type": "markdown",
   "id": "26deafc6",
   "metadata": {
    "papermill": {
     "duration": 0.005843,
     "end_time": "2023-10-08T08:03:53.969474",
     "exception": false,
     "start_time": "2023-10-08T08:03:53.963631",
     "status": "completed"
    },
    "tags": []
   },
   "source": [
    "---\n",
    "\n",
    "\n",
    "\n",
    "\n",
    "*Have questions or comments? Visit the [course discussion forum](https://www.kaggle.com/learn/pandas/discussion) to chat with other learners.*"
   ]
  }
 ],
 "metadata": {
  "kernelspec": {
   "display_name": "Python 3",
   "language": "python",
   "name": "python3"
  },
  "language_info": {
   "codemirror_mode": {
    "name": "ipython",
    "version": 3
   },
   "file_extension": ".py",
   "mimetype": "text/x-python",
   "name": "python",
   "nbconvert_exporter": "python",
   "pygments_lexer": "ipython3",
   "version": "3.10.12"
  },
  "papermill": {
   "default_parameters": {},
   "duration": 7.401774,
   "end_time": "2023-10-08T08:03:54.494879",
   "environment_variables": {},
   "exception": null,
   "input_path": "__notebook__.ipynb",
   "output_path": "__notebook__.ipynb",
   "parameters": {},
   "start_time": "2023-10-08T08:03:47.093105",
   "version": "2.4.0"
  }
 },
 "nbformat": 4,
 "nbformat_minor": 5
}
